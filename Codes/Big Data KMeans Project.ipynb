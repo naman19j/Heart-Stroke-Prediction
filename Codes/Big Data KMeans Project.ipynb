{
 "cells": [
  {
   "cell_type": "code",
   "execution_count": 31,
   "id": "0b1e9bf3",
   "metadata": {},
   "outputs": [],
   "source": [
    "import findspark\n",
    "findspark.init()\n",
    "import time as t"
   ]
  },
  {
   "cell_type": "code",
   "execution_count": 32,
   "id": "dda27962",
   "metadata": {},
   "outputs": [],
   "source": [
    "from pyspark.sql import SparkSession\n",
    "spark = SparkSession.builder.appName('patients').getOrCreate()"
   ]
  },
  {
   "cell_type": "code",
   "execution_count": 33,
   "id": "653dad8f",
   "metadata": {},
   "outputs": [],
   "source": [
    "from pyspark.ml.clustering import KMeans\n",
    "dataset = spark.read.csv(\"D:\\COURSE PDFs\\College Notes\\SEMESTER VI\\Big Data Analytics\\Healthcare Stroke Dataset\\data.csv\",header=True,inferSchema=True)"
   ]
  },
  {
   "cell_type": "code",
   "execution_count": 34,
   "id": "06cc8e21",
   "metadata": {},
   "outputs": [
    {
     "data": {
      "text/plain": [
       "[Row(id=9046, gender=1, age=67.0, hypertension=0, heart_disease=1, ever_married=1, work_type=1, Residence_type=1, avg_glucose_level=228.69, smoking_status=1, stroke=1)]"
      ]
     },
     "execution_count": 34,
     "metadata": {},
     "output_type": "execute_result"
    }
   ],
   "source": [
    "dataset.head(1)\n"
   ]
  },
  {
   "cell_type": "code",
   "execution_count": 35,
   "id": "16c6e407",
   "metadata": {
    "scrolled": true
   },
   "outputs": [
    {
     "name": "stdout",
     "output_type": "stream",
     "text": [
      "root\n",
      " |-- id: integer (nullable = true)\n",
      " |-- gender: integer (nullable = true)\n",
      " |-- age: double (nullable = true)\n",
      " |-- hypertension: integer (nullable = true)\n",
      " |-- heart_disease: integer (nullable = true)\n",
      " |-- ever_married: integer (nullable = true)\n",
      " |-- work_type: integer (nullable = true)\n",
      " |-- Residence_type: integer (nullable = true)\n",
      " |-- avg_glucose_level: double (nullable = true)\n",
      " |-- smoking_status: integer (nullable = true)\n",
      " |-- stroke: integer (nullable = true)\n",
      "\n"
     ]
    }
   ],
   "source": [
    "dataset.printSchema()\n"
   ]
  },
  {
   "cell_type": "code",
   "execution_count": 36,
   "id": "362dd9a9",
   "metadata": {},
   "outputs": [
    {
     "name": "stdout",
     "output_type": "stream",
     "text": [
      "root\n",
      " |-- id: integer (nullable = true)\n",
      " |-- gender: integer (nullable = true)\n",
      " |-- age: double (nullable = true)\n",
      " |-- hypertension: integer (nullable = true)\n",
      " |-- heart_disease: integer (nullable = true)\n",
      " |-- ever_married: integer (nullable = true)\n",
      " |-- work_type: integer (nullable = true)\n",
      " |-- Residence_type: integer (nullable = true)\n",
      " |-- smoking_status: integer (nullable = true)\n",
      " |-- stroke: integer (nullable = true)\n",
      "\n"
     ]
    }
   ],
   "source": [
    "columns_to_drop = ['avg_glucose_level']\n",
    "dataset = dataset.drop(*columns_to_drop)\n",
    "dataset.printSchema()"
   ]
  },
  {
   "cell_type": "code",
   "execution_count": 37,
   "id": "5399f038",
   "metadata": {},
   "outputs": [
    {
     "data": {
      "text/plain": [
       "['id',\n",
       " 'gender',\n",
       " 'age',\n",
       " 'hypertension',\n",
       " 'heart_disease',\n",
       " 'ever_married',\n",
       " 'work_type',\n",
       " 'Residence_type',\n",
       " 'smoking_status',\n",
       " 'stroke']"
      ]
     },
     "execution_count": 37,
     "metadata": {},
     "output_type": "execute_result"
    }
   ],
   "source": [
    "dataset.columns\n"
   ]
  },
  {
   "cell_type": "code",
   "execution_count": 38,
   "id": "3a86de34",
   "metadata": {},
   "outputs": [],
   "source": [
    "start_time=t.time()\n",
    "from pyspark.ml.linalg import Vectors\n",
    "from pyspark.ml.feature import VectorAssembler\n"
   ]
  },
  {
   "cell_type": "code",
   "execution_count": 39,
   "id": "ec37ded0",
   "metadata": {},
   "outputs": [],
   "source": [
    "from pyspark.sql.types import IntegerType\n",
    "dataset = dataset.withColumn(\"smoking_status\", dataset[\"smoking_status\"].cast(IntegerType()))"
   ]
  },
  {
   "cell_type": "code",
   "execution_count": 40,
   "id": "a1463a12",
   "metadata": {},
   "outputs": [
    {
     "name": "stdout",
     "output_type": "stream",
     "text": [
      "root\n",
      " |-- id: integer (nullable = true)\n",
      " |-- gender: integer (nullable = true)\n",
      " |-- age: double (nullable = true)\n",
      " |-- hypertension: integer (nullable = true)\n",
      " |-- heart_disease: integer (nullable = true)\n",
      " |-- ever_married: integer (nullable = true)\n",
      " |-- work_type: integer (nullable = true)\n",
      " |-- Residence_type: integer (nullable = true)\n",
      " |-- smoking_status: integer (nullable = true)\n",
      " |-- stroke: integer (nullable = true)\n",
      "\n"
     ]
    }
   ],
   "source": [
    "dataset.printSchema()\n"
   ]
  },
  {
   "cell_type": "code",
   "execution_count": 41,
   "id": "d47bd726",
   "metadata": {},
   "outputs": [],
   "source": [
    "feat_cols = [\n",
    " 'gender','age','hypertension','heart_disease','ever_married','work_type','Residence_type','smoking_status','stroke']"
   ]
  },
  {
   "cell_type": "code",
   "execution_count": 42,
   "id": "a7e644fa",
   "metadata": {},
   "outputs": [],
   "source": [
    "vec_assembler = VectorAssembler(inputCols = feat_cols, outputCol='features')\n"
   ]
  },
  {
   "cell_type": "code",
   "execution_count": 43,
   "id": "3c025a36",
   "metadata": {},
   "outputs": [],
   "source": [
    "final_data = vec_assembler.transform(dataset)\n"
   ]
  },
  {
   "cell_type": "code",
   "execution_count": 44,
   "id": "99069ef4",
   "metadata": {},
   "outputs": [],
   "source": [
    "from pyspark.ml.feature import StandardScaler"
   ]
  },
  {
   "cell_type": "code",
   "execution_count": 45,
   "id": "9a5197ff",
   "metadata": {},
   "outputs": [],
   "source": [
    "scaler = StandardScaler(inputCol=\"features\", outputCol=\"scaledFeatures\", withStd=True, withMean=False)\n"
   ]
  },
  {
   "cell_type": "code",
   "execution_count": 46,
   "id": "3f0b3dfb",
   "metadata": {},
   "outputs": [
    {
     "data": {
      "text/plain": [
       "DataFrame[id: int, gender: int, age: double, hypertension: int, heart_disease: int, ever_married: int, work_type: int, Residence_type: int, smoking_status: int, stroke: int, features: vector]"
      ]
     },
     "execution_count": 46,
     "metadata": {},
     "output_type": "execute_result"
    }
   ],
   "source": [
    "final_data\n",
    "\n"
   ]
  },
  {
   "cell_type": "code",
   "execution_count": 47,
   "id": "7d8f5ba5",
   "metadata": {},
   "outputs": [],
   "source": [
    "scalerModel = scaler.fit(final_data)\n"
   ]
  },
  {
   "cell_type": "code",
   "execution_count": 48,
   "id": "8e4e9ecf",
   "metadata": {},
   "outputs": [],
   "source": [
    "cluster_final_data = scalerModel.transform(final_data)\n"
   ]
  },
  {
   "cell_type": "code",
   "execution_count": 49,
   "id": "dc78a4c5",
   "metadata": {},
   "outputs": [],
   "source": [
    "kmeans3 = KMeans(featuresCol='scaledFeatures',k=3)\n",
    "kmeans2 = KMeans(featuresCol='scaledFeatures',k=2)"
   ]
  },
  {
   "cell_type": "code",
   "execution_count": 50,
   "id": "3384452f",
   "metadata": {},
   "outputs": [],
   "source": [
    "model3 = kmeans3.fit(cluster_final_data)\n",
    "model2 = kmeans2.fit(cluster_final_data)"
   ]
  },
  {
   "cell_type": "code",
   "execution_count": 51,
   "id": "4b0fd533",
   "metadata": {},
   "outputs": [],
   "source": [
    "from pyspark.ml.clustering import KMeans\n",
    "from pyspark.ml.evaluation import ClusteringEvaluator"
   ]
  },
  {
   "cell_type": "code",
   "execution_count": 52,
   "id": "ca2f6308",
   "metadata": {},
   "outputs": [],
   "source": [
    "predictions3 = model3.transform(cluster_final_data)\n",
    "predictions2 = model2.transform(cluster_final_data)"
   ]
  },
  {
   "cell_type": "code",
   "execution_count": 53,
   "id": "d765bb38",
   "metadata": {},
   "outputs": [],
   "source": [
    "evaluator = ClusteringEvaluator()"
   ]
  },
  {
   "cell_type": "code",
   "execution_count": 54,
   "id": "e8cec8e5",
   "metadata": {},
   "outputs": [
    {
     "name": "stdout",
     "output_type": "stream",
     "text": [
      "With k=3 Silhouette with squared euclidean distance = -0.051780492409706495\n",
      "With k=2 Silhouette with squared euclidean distance = 0.08301564925690019\n"
     ]
    }
   ],
   "source": [
    "silhouette = evaluator.evaluate(predictions3)\n",
    "print(\"With k=3 Silhouette with squared euclidean distance = \" + str(silhouette))\n",
    "silhouette = evaluator.evaluate(predictions2)\n",
    "print(\"With k=2 Silhouette with squared euclidean distance = \" + str(silhouette))"
   ]
  },
  {
   "cell_type": "code",
   "execution_count": 55,
   "id": "9ef1f932",
   "metadata": {},
   "outputs": [
    {
     "name": "stdout",
     "output_type": "stream",
     "text": [
      "Cluster Centers:\n",
      "[8.30328948e-01 1.77326310e+00 0.00000000e+00 1.77700557e-01\n",
      " 1.30316618e+00 1.68107417e+00 2.98497153e+00 1.14720772e+00\n",
      " 2.09625525e-03]\n",
      "[0.90508111 2.81444811 2.47274111 0.63844992 1.8911928  1.39416261\n",
      " 2.97800074 0.81946711 1.68944126]\n"
     ]
    }
   ],
   "source": [
    "centers=model2.clusterCenters()\n",
    "print(\"Cluster Centers:\")\n",
    "for center in centers:\n",
    "    print(center)"
   ]
  },
  {
   "cell_type": "code",
   "execution_count": 56,
   "id": "3f32a34b",
   "metadata": {},
   "outputs": [
    {
     "name": "stdout",
     "output_type": "stream",
     "text": [
      "With K=2\n",
      "Silhouette with squared euclidean distance = 0.08301564925690019\n",
      "------------------------------------------------------------\n",
      "With K=3\n",
      "Silhouette with squared euclidean distance = -0.051780492409706495\n",
      "------------------------------------------------------------\n",
      "With K=4\n",
      "Silhouette with squared euclidean distance = -0.08035770895238105\n",
      "------------------------------------------------------------\n"
     ]
    }
   ],
   "source": [
    "for k in range(2,5):\n",
    "    kmeans = KMeans(featuresCol='scaledFeatures',k=k)\n",
    "    model = kmeans.fit(cluster_final_data)\n",
    "    predictions = model.transform(cluster_final_data)\n",
    "    evaluator = ClusteringEvaluator()\n",
    "    silhouette = evaluator.evaluate(predictions)\n",
    "    print(\"With K={}\".format(k))\n",
    "    print(\"Silhouette with squared euclidean distance = \" + str(silhouette))\n",
    "    print('--'*30)"
   ]
  },
  {
   "cell_type": "code",
   "execution_count": 57,
   "id": "3f545be1",
   "metadata": {},
   "outputs": [
    {
     "name": "stdout",
     "output_type": "stream",
     "text": [
      "+----------+-----+\n",
      "|prediction|count|\n",
      "+----------+-----+\n",
      "|         1|  432|\n",
      "|         2|  249|\n",
      "|         0| 4429|\n",
      "+----------+-----+\n",
      "\n"
     ]
    }
   ],
   "source": [
    "model3.transform(cluster_final_data).groupBy('prediction').count().show()\n"
   ]
  },
  {
   "cell_type": "code",
   "execution_count": 58,
   "id": "d203ae44",
   "metadata": {},
   "outputs": [
    {
     "name": "stdout",
     "output_type": "stream",
     "text": [
      "+----------+-----+\n",
      "|prediction|count|\n",
      "+----------+-----+\n",
      "|         1|  679|\n",
      "|         0| 4431|\n",
      "+----------+-----+\n",
      "\n"
     ]
    }
   ],
   "source": [
    "model2.transform(cluster_final_data).groupBy('prediction').count().show()"
   ]
  },
  {
   "cell_type": "code",
   "execution_count": 59,
   "id": "c5eeeb69",
   "metadata": {},
   "outputs": [],
   "source": [
    "end_time = t.time()"
   ]
  },
  {
   "cell_type": "code",
   "execution_count": 60,
   "id": "34512ee6",
   "metadata": {},
   "outputs": [
    {
     "data": {
      "text/plain": [
       "8.335537672042847"
      ]
     },
     "execution_count": 60,
     "metadata": {},
     "output_type": "execute_result"
    }
   ],
   "source": [
    "end_time - start_time"
   ]
  }
 ],
 "metadata": {
  "kernelspec": {
   "display_name": "Python 3 (ipykernel)",
   "language": "python",
   "name": "python3"
  },
  "language_info": {
   "codemirror_mode": {
    "name": "ipython",
    "version": 3
   },
   "file_extension": ".py",
   "mimetype": "text/x-python",
   "name": "python",
   "nbconvert_exporter": "python",
   "pygments_lexer": "ipython3",
   "version": "3.9.7"
  }
 },
 "nbformat": 4,
 "nbformat_minor": 5
}
