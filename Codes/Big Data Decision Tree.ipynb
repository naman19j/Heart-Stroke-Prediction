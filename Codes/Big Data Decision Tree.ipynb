{
 "cells": [
  {
   "cell_type": "code",
   "execution_count": 1,
   "id": "3eedfd1d",
   "metadata": {},
   "outputs": [],
   "source": [
    "from pyspark import SparkContext\n",
    "sc = SparkContext(master = 'local')\n",
    "\n"
   ]
  },
  {
   "cell_type": "code",
   "execution_count": 2,
   "id": "4b8190f7",
   "metadata": {},
   "outputs": [],
   "source": [
    "from pyspark.sql import SparkSession\n",
    "spark = SparkSession.builder \\\n",
    "          .appName(\"Python Spark SQL basic example\") \\\n",
    "          .config(\"spark.some.config.option\", \"some-value\") \\\n",
    "          .getOrCreate()"
   ]
  },
  {
   "cell_type": "code",
   "execution_count": 3,
   "id": "23c36815",
   "metadata": {},
   "outputs": [
    {
     "name": "stdout",
     "output_type": "stream",
     "text": [
      "+-----+------+----+------------+-------------+------------+---------+--------------+-----------------+--------------+------+\n",
      "|   id|gender| age|hypertension|heart_disease|ever_married|work_type|Residence_type|avg_glucose_level|smoking_status|stroke|\n",
      "+-----+------+----+------------+-------------+------------+---------+--------------+-----------------+--------------+------+\n",
      "| 9046|     1|67.0|           0|            1|           1|        1|             1|           228.69|             1|     1|\n",
      "|51676|     0|61.0|           0|            0|           1|        2|             2|           202.21|             0|     1|\n",
      "|31112|     1|80.0|           0|            1|           1|        1|             2|           105.92|             0|     1|\n",
      "|60182|     0|49.0|           0|            0|           1|        1|             1|           171.23|             2|     1|\n",
      "| 1665|     0|79.0|           1|            0|           1|        2|             2|           174.12|             0|     1|\n",
      "|56669|     1|81.0|           0|            0|           1|        1|             1|           186.21|             1|     1|\n",
      "|53882|     1|74.0|           1|            1|           1|        1|             2|            70.09|             0|     1|\n",
      "|10434|     0|69.0|           0|            0|           0|        1|             1|            94.39|             0|     1|\n",
      "|27419|     0|59.0|           0|            0|           1|        1|             2|            76.15|             3|     1|\n",
      "|60491|     0|78.0|           0|            0|           1|        1|             1|            58.57|             3|     1|\n",
      "|12109|     0|81.0|           1|            0|           1|        1|             2|            80.43|             0|     1|\n",
      "|12095|     0|61.0|           0|            1|           1|        3|             2|           120.46|             2|     1|\n",
      "|12175|     0|54.0|           0|            0|           1|        1|             1|           104.51|             2|     1|\n",
      "| 8213|     1|78.0|           0|            1|           1|        1|             1|           219.84|             3|     1|\n",
      "| 5317|     0|79.0|           0|            1|           1|        1|             1|           214.09|             0|     1|\n",
      "|58202|     0|50.0|           1|            0|           1|        2|             2|           167.41|             0|     1|\n",
      "|56112|     1|64.0|           0|            1|           1|        1|             1|           191.61|             2|     1|\n",
      "|34120|     1|75.0|           1|            0|           1|        1|             1|           221.29|             2|     1|\n",
      "|27458|     0|60.0|           0|            0|           0|        1|             1|            89.22|             0|     1|\n",
      "|25226|     1|57.0|           0|            1|           0|        3|             1|           217.08|             3|     1|\n",
      "+-----+------+----+------------+-------------+------------+---------+--------------+-----------------+--------------+------+\n",
      "only showing top 20 rows\n",
      "\n"
     ]
    }
   ],
   "source": [
    "import time as t\n",
    "\n",
    "cuse = spark.read.csv('D:\\COURSE PDFs\\College Notes\\SEMESTER VI\\Big Data Analytics\\Healthcare Stroke Dataset\\data.csv', header=True, inferSchema=True)\n",
    "cuse.show(20)\n",
    "start_time=t.time()"
   ]
  },
  {
   "cell_type": "code",
   "execution_count": 4,
   "id": "cd2bd25a",
   "metadata": {},
   "outputs": [],
   "source": [
    "from pyspark.ml.feature import StringIndexer, OneHotEncoder, VectorAssembler\n",
    "from pyspark.ml import Pipeline\n",
    "\n",
    "# categorical columns\n",
    "categorical_columns = cuse.columns[0:3]"
   ]
  },
  {
   "cell_type": "code",
   "execution_count": 5,
   "id": "e8f60d68",
   "metadata": {},
   "outputs": [],
   "source": [
    "stringindexer_stages = [StringIndexer(inputCol=c, outputCol='strindexed_' + c) for c in categorical_columns]\n",
    "stringindexer_stages += [StringIndexer(inputCol='stroke', outputCol='label')]"
   ]
  },
  {
   "cell_type": "code",
   "execution_count": 6,
   "id": "bdbe5752",
   "metadata": {},
   "outputs": [],
   "source": [
    "onehotencoder_stages = [OneHotEncoder(inputCol='strindexed_' + c, outputCol='onehot_' + c) for c in categorical_columns]\n"
   ]
  },
  {
   "cell_type": "code",
   "execution_count": 7,
   "id": "2909f69b",
   "metadata": {},
   "outputs": [],
   "source": [
    "feature_columns = ['onehot_' + c for c in categorical_columns]\n",
    "vectorassembler_stage = VectorAssembler(inputCols=feature_columns, outputCol='features')"
   ]
  },
  {
   "cell_type": "code",
   "execution_count": 8,
   "id": "204374a8",
   "metadata": {},
   "outputs": [],
   "source": [
    "all_stages = stringindexer_stages + onehotencoder_stages + [vectorassembler_stage]\n",
    "pipeline = Pipeline(stages=all_stages)"
   ]
  },
  {
   "cell_type": "code",
   "execution_count": 9,
   "id": "e7bf30a6",
   "metadata": {},
   "outputs": [],
   "source": [
    "pipeline_model = pipeline.fit(cuse)\n"
   ]
  },
  {
   "cell_type": "code",
   "execution_count": 10,
   "id": "964795be",
   "metadata": {},
   "outputs": [
    {
     "name": "stdout",
     "output_type": "stream",
     "text": [
      "+-------------------+-------------+----------------+--------------------+-----+\n",
      "|          onehot_id|onehot_gender|      onehot_age|            features|label|\n",
      "+-------------------+-------------+----------------+--------------------+-----+\n",
      "|(5109,[5053],[1.0])|(2,[1],[1.0])|(103,[63],[1.0])|(5214,[5053,5110,...|  1.0|\n",
      "|(5109,[3218],[1.0])|(2,[0],[1.0])|(103,[15],[1.0])|(5214,[3218,5109,...|  1.0|\n",
      "|(5109,[1593],[1.0])|(2,[1],[1.0])|(103,[28],[1.0])|(5214,[1593,5110,...|  1.0|\n",
      "|(5109,[3907],[1.0])|(2,[0],[1.0])|(103,[12],[1.0])|(5214,[3907,5109,...|  1.0|\n",
      "| (5109,[530],[1.0])|(2,[0],[1.0])| (103,[7],[1.0])|(5214,[530,5109,5...|  1.0|\n",
      "|(5109,[3618],[1.0])|(2,[1],[1.0])|(103,[41],[1.0])|(5214,[3618,5110,...|  1.0|\n",
      "|(5109,[3392],[1.0])|(2,[1],[1.0])|(103,[74],[1.0])|(5214,[3392,5110,...|  1.0|\n",
      "|  (5109,[29],[1.0])|(2,[0],[1.0])|(103,[55],[1.0])|(5214,[29,5109,51...|  1.0|\n",
      "|(5109,[1306],[1.0])|(2,[0],[1.0])|(103,[10],[1.0])|(5214,[1306,5109,...|  1.0|\n",
      "|(5109,[3931],[1.0])|(2,[0],[1.0])| (103,[0],[1.0])|(5214,[3931,5109,...|  1.0|\n",
      "+-------------------+-------------+----------------+--------------------+-----+\n",
      "only showing top 10 rows\n",
      "\n"
     ]
    }
   ],
   "source": [
    "final_columns = feature_columns + ['features', 'label']\n",
    "cuse_df = pipeline_model.transform(cuse).\\\n",
    "            select(final_columns)\n",
    "            \n",
    "cuse_df.show(10)"
   ]
  },
  {
   "cell_type": "code",
   "execution_count": 11,
   "id": "ab41c540",
   "metadata": {},
   "outputs": [],
   "source": [
    "training, test = cuse_df.randomSplit([0.8, 0.2], seed=1234)\n"
   ]
  },
  {
   "cell_type": "code",
   "execution_count": 12,
   "id": "f7ad565c",
   "metadata": {},
   "outputs": [],
   "source": [
    "from pyspark.ml.regression import GeneralizedLinearRegression\n",
    "from pyspark.ml.classification import LogisticRegression, DecisionTreeClassifier\n",
    "\n",
    "dt = DecisionTreeClassifier(featuresCol='features', labelCol='label')"
   ]
  },
  {
   "cell_type": "code",
   "execution_count": 13,
   "id": "a19c6a16",
   "metadata": {},
   "outputs": [],
   "source": [
    "from pyspark.ml.tuning import ParamGridBuilder\n",
    "param_grid = ParamGridBuilder().\\\n",
    "    addGrid(dt.maxDepth, [2,3,4,5]).\\\n",
    "    build()"
   ]
  },
  {
   "cell_type": "code",
   "execution_count": 14,
   "id": "b5a83c75",
   "metadata": {},
   "outputs": [],
   "source": [
    "from pyspark.ml.evaluation import BinaryClassificationEvaluator\n",
    "evaluator = BinaryClassificationEvaluator(rawPredictionCol=\"rawPrediction\", metricName=\"areaUnderROC\")"
   ]
  },
  {
   "cell_type": "code",
   "execution_count": 15,
   "id": "e808e984",
   "metadata": {},
   "outputs": [],
   "source": [
    "from pyspark.ml.tuning import CrossValidator\n",
    "cv = CrossValidator(estimator=dt, estimatorParamMaps=param_grid, evaluator=evaluator, numFolds=4)"
   ]
  },
  {
   "cell_type": "code",
   "execution_count": 16,
   "id": "8829d459",
   "metadata": {},
   "outputs": [],
   "source": [
    "cv_model = cv.fit(cuse_df)\n"
   ]
  },
  {
   "cell_type": "code",
   "execution_count": 17,
   "id": "c0c1afa7",
   "metadata": {},
   "outputs": [],
   "source": [
    "show_columns = ['features', 'label', 'prediction', 'rawPrediction', 'probability']\n"
   ]
  },
  {
   "cell_type": "code",
   "execution_count": 18,
   "id": "c20b6b8e",
   "metadata": {},
   "outputs": [
    {
     "name": "stdout",
     "output_type": "stream",
     "text": [
      "+-----------------------------------+-----+----------+--------------+----------------------------------------+\n",
      "|features                           |label|prediction|rawPrediction |probability                             |\n",
      "+-----------------------------------+-----+----------+--------------+----------------------------------------+\n",
      "|(5214,[5110,5154],[1.0,1.0])       |0.0  |0.0       |[4808.0,232.0]|[0.953968253968254,0.046031746031746035]|\n",
      "|(5214,[1,5109,5125],[1.0,1.0,1.0]) |0.0  |0.0       |[4808.0,232.0]|[0.953968253968254,0.046031746031746035]|\n",
      "|(5214,[2,5109,5125],[1.0,1.0,1.0]) |0.0  |0.0       |[4808.0,232.0]|[0.953968253968254,0.046031746031746035]|\n",
      "|(5214,[4,5110,5146],[1.0,1.0,1.0]) |0.0  |0.0       |[4808.0,232.0]|[0.953968253968254,0.046031746031746035]|\n",
      "|(5214,[5,5109,5125],[1.0,1.0,1.0]) |0.0  |0.0       |[4808.0,232.0]|[0.953968253968254,0.046031746031746035]|\n",
      "|(5214,[6,5109,5132],[1.0,1.0,1.0]) |0.0  |0.0       |[4808.0,232.0]|[0.953968253968254,0.046031746031746035]|\n",
      "|(5214,[7,5109,5114],[1.0,1.0,1.0]) |0.0  |0.0       |[4808.0,232.0]|[0.953968253968254,0.046031746031746035]|\n",
      "|(5214,[8,5110,5132],[1.0,1.0,1.0]) |0.0  |0.0       |[4808.0,232.0]|[0.953968253968254,0.046031746031746035]|\n",
      "|(5214,[9,5110,5151],[1.0,1.0,1.0]) |0.0  |0.0       |[4808.0,232.0]|[0.953968253968254,0.046031746031746035]|\n",
      "|(5214,[10,5109,5176],[1.0,1.0,1.0])|0.0  |0.0       |[4808.0,232.0]|[0.953968253968254,0.046031746031746035]|\n",
      "+-----------------------------------+-----+----------+--------------+----------------------------------------+\n",
      "only showing top 10 rows\n",
      "\n"
     ]
    }
   ],
   "source": [
    "pred_training_cv = cv_model.transform(training)\n",
    "pred_training_cv.select(show_columns).show(10, truncate=False)"
   ]
  },
  {
   "cell_type": "code",
   "execution_count": 19,
   "id": "4902b141",
   "metadata": {},
   "outputs": [
    {
     "name": "stdout",
     "output_type": "stream",
     "text": [
      "+-----------------------------------+-----+----------+--------------+----------------------------------------+\n",
      "|features                           |label|prediction|rawPrediction |probability                             |\n",
      "+-----------------------------------+-----+----------+--------------+----------------------------------------+\n",
      "|(5214,[0,5110,5172],[1.0,1.0,1.0]) |0.0  |0.0       |[4808.0,232.0]|[0.953968253968254,0.046031746031746035]|\n",
      "|(5214,[3,5110,5118],[1.0,1.0,1.0]) |0.0  |0.0       |[4808.0,232.0]|[0.953968253968254,0.046031746031746035]|\n",
      "|(5214,[20,5109,5116],[1.0,1.0,1.0])|0.0  |0.0       |[4808.0,232.0]|[0.953968253968254,0.046031746031746035]|\n",
      "|(5214,[23,5110,5113],[1.0,1.0,1.0])|0.0  |0.0       |[4808.0,232.0]|[0.953968253968254,0.046031746031746035]|\n",
      "|(5214,[24,5109,5160],[1.0,1.0,1.0])|0.0  |0.0       |[4808.0,232.0]|[0.953968253968254,0.046031746031746035]|\n",
      "|(5214,[25,5109,5133],[1.0,1.0,1.0])|0.0  |0.0       |[4808.0,232.0]|[0.953968253968254,0.046031746031746035]|\n",
      "|(5214,[26,5109,5154],[1.0,1.0,1.0])|0.0  |0.0       |[4808.0,232.0]|[0.953968253968254,0.046031746031746035]|\n",
      "|(5214,[35,5110,5143],[1.0,1.0,1.0])|0.0  |0.0       |[4808.0,232.0]|[0.953968253968254,0.046031746031746035]|\n",
      "|(5214,[44,5110,5160],[1.0,1.0,1.0])|0.0  |0.0       |[4808.0,232.0]|[0.953968253968254,0.046031746031746035]|\n",
      "|(5214,[46,5109,5185],[1.0,1.0,1.0])|0.0  |0.0       |[4808.0,232.0]|[0.953968253968254,0.046031746031746035]|\n",
      "+-----------------------------------+-----+----------+--------------+----------------------------------------+\n",
      "only showing top 10 rows\n",
      "\n"
     ]
    }
   ],
   "source": [
    "pred_test_cv = cv_model.transform(test)\n",
    "pred_test_cv.select(show_columns).show(10, truncate=False)"
   ]
  },
  {
   "cell_type": "code",
   "execution_count": 20,
   "id": "cb2fa25e",
   "metadata": {},
   "outputs": [],
   "source": [
    "end_time=t.time()"
   ]
  },
  {
   "cell_type": "code",
   "execution_count": 21,
   "id": "ceeda338",
   "metadata": {},
   "outputs": [
    {
     "data": {
      "text/plain": [
       "27.774269342422485"
      ]
     },
     "execution_count": 21,
     "metadata": {},
     "output_type": "execute_result"
    }
   ],
   "source": [
    "end_time-start_time\n"
   ]
  }
 ],
 "metadata": {
  "kernelspec": {
   "display_name": "Python 3 (ipykernel)",
   "language": "python",
   "name": "python3"
  },
  "language_info": {
   "codemirror_mode": {
    "name": "ipython",
    "version": 3
   },
   "file_extension": ".py",
   "mimetype": "text/x-python",
   "name": "python",
   "nbconvert_exporter": "python",
   "pygments_lexer": "ipython3",
   "version": "3.9.7"
  }
 },
 "nbformat": 4,
 "nbformat_minor": 5
}
